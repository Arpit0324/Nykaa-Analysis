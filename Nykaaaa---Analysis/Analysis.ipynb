{
 "cells": [
  {
   "cell_type": "markdown",
   "id": "26c3e597",
   "metadata": {},
   "source": [
    "# Importing libraries"
   ]
  },
  {
   "cell_type": "code",
   "execution_count": 1,
   "id": "dd875902",
   "metadata": {},
   "outputs": [],
   "source": [
    "import pandas as pd\n",
    "import numpy as np\n",
    "import seaborn as sns\n",
    "import matplotlib.pyplot as plt\n",
    "%matplotlib inline"
   ]
  },
  {
   "cell_type": "code",
   "execution_count": 2,
   "id": "09ee7e24",
   "metadata": {},
   "outputs": [
    {
     "data": {
      "text/html": [
       "<div>\n",
       "<style scoped>\n",
       "    .dataframe tbody tr th:only-of-type {\n",
       "        vertical-align: middle;\n",
       "    }\n",
       "\n",
       "    .dataframe tbody tr th {\n",
       "        vertical-align: top;\n",
       "    }\n",
       "\n",
       "    .dataframe thead th {\n",
       "        text-align: right;\n",
       "    }\n",
       "</style>\n",
       "<table border=\"1\" class=\"dataframe\">\n",
       "  <thead>\n",
       "    <tr style=\"text-align: right;\">\n",
       "      <th></th>\n",
       "      <th>Unnamed: 0</th>\n",
       "      <th>Product Name</th>\n",
       "      <th>Reviews</th>\n",
       "      <th>Original Price</th>\n",
       "      <th>Offer Price</th>\n",
       "      <th>Discount</th>\n",
       "      <th>Free Gifts</th>\n",
       "    </tr>\n",
       "  </thead>\n",
       "  <tbody>\n",
       "    <tr>\n",
       "      <th>0</th>\n",
       "      <td>0</td>\n",
       "      <td>L'Oreal Paris Glycolic Bright Serum With Glyco...</td>\n",
       "      <td>( 5154 )</td>\n",
       "      <td>MRP:₹749</td>\n",
       "      <td>₹486</td>\n",
       "      <td>35% Off</td>\n",
       "      <td>NaN</td>\n",
       "    </tr>\n",
       "    <tr>\n",
       "      <th>1</th>\n",
       "      <td>1</td>\n",
       "      <td>Nykaa Skin Secrets Gold Sheet Mask + Nykaa Ski...</td>\n",
       "      <td>( 25 )</td>\n",
       "      <td>MRP:₹1099</td>\n",
       "      <td>₹879</td>\n",
       "      <td>20% Off</td>\n",
       "      <td>Enjoy Free Gift</td>\n",
       "    </tr>\n",
       "    <tr>\n",
       "      <th>2</th>\n",
       "      <td>2</td>\n",
       "      <td>Dot &amp; Key Vitamin C + E Face Sunscreen With SP...</td>\n",
       "      <td>( 3678 )</td>\n",
       "      <td>MRP:₹495</td>\n",
       "      <td>₹421</td>\n",
       "      <td>15% Off</td>\n",
       "      <td>Extra 5% Off</td>\n",
       "    </tr>\n",
       "    <tr>\n",
       "      <th>3</th>\n",
       "      <td>3</td>\n",
       "      <td>Olay Total Effects 7 In One Anti-Ageing Day Cr...</td>\n",
       "      <td>( 6065 )</td>\n",
       "      <td>MRP:₹798</td>\n",
       "      <td>₹638</td>\n",
       "      <td>20% Off</td>\n",
       "      <td>NaN</td>\n",
       "    </tr>\n",
       "    <tr>\n",
       "      <th>4</th>\n",
       "      <td>4</td>\n",
       "      <td>Nykaa SKINRX 10% Vitamin C with 5% Niacinamide...</td>\n",
       "      <td>( 1427 )</td>\n",
       "      <td>MRP:₹699</td>\n",
       "      <td>₹594</td>\n",
       "      <td>15% Off</td>\n",
       "      <td>NaN</td>\n",
       "    </tr>\n",
       "  </tbody>\n",
       "</table>\n",
       "</div>"
      ],
      "text/plain": [
       "   Unnamed: 0                                       Product Name   Reviews  \\\n",
       "0           0  L'Oreal Paris Glycolic Bright Serum With Glyco...  ( 5154 )   \n",
       "1           1  Nykaa Skin Secrets Gold Sheet Mask + Nykaa Ski...    ( 25 )   \n",
       "2           2  Dot & Key Vitamin C + E Face Sunscreen With SP...  ( 3678 )   \n",
       "3           3  Olay Total Effects 7 In One Anti-Ageing Day Cr...  ( 6065 )   \n",
       "4           4  Nykaa SKINRX 10% Vitamin C with 5% Niacinamide...  ( 1427 )   \n",
       "\n",
       "  Original Price Offer Price Discount       Free Gifts  \n",
       "0       MRP:₹749        ₹486  35% Off              NaN  \n",
       "1      MRP:₹1099        ₹879  20% Off  Enjoy Free Gift  \n",
       "2       MRP:₹495        ₹421  15% Off     Extra 5% Off  \n",
       "3       MRP:₹798        ₹638  20% Off              NaN  \n",
       "4       MRP:₹699        ₹594  15% Off              NaN  "
      ]
     },
     "execution_count": 2,
     "metadata": {},
     "output_type": "execute_result"
    }
   ],
   "source": [
    "df = pd.read_csv('Nykaa_BestSkinProducts.csv')\n",
    "df.head()"
   ]
  },
  {
   "cell_type": "code",
   "execution_count": 3,
   "id": "04d22f62",
   "metadata": {},
   "outputs": [
    {
     "data": {
      "text/plain": [
       "(12000, 7)"
      ]
     },
     "execution_count": 3,
     "metadata": {},
     "output_type": "execute_result"
    }
   ],
   "source": [
    "#Dataset information in rows and columns\n",
    "df.shape"
   ]
  },
  {
   "cell_type": "code",
   "execution_count": 4,
   "id": "62dbc04a",
   "metadata": {},
   "outputs": [
    {
     "name": "stdout",
     "output_type": "stream",
     "text": [
      "<class 'pandas.core.frame.DataFrame'>\n",
      "RangeIndex: 12000 entries, 0 to 11999\n",
      "Data columns (total 7 columns):\n",
      " #   Column          Non-Null Count  Dtype \n",
      "---  ------          --------------  ----- \n",
      " 0   Unnamed: 0      12000 non-null  int64 \n",
      " 1   Product Name    12000 non-null  object\n",
      " 2   Reviews         11035 non-null  object\n",
      " 3   Original Price  12000 non-null  object\n",
      " 4   Offer Price     12000 non-null  object\n",
      " 5   Discount        9025 non-null   object\n",
      " 6   Free Gifts      3998 non-null   object\n",
      "dtypes: int64(1), object(6)\n",
      "memory usage: 656.4+ KB\n"
     ]
    }
   ],
   "source": [
    "#Complete information of the dataset\n",
    "df.info()"
   ]
  },
  {
   "cell_type": "markdown",
   "id": "de06081c",
   "metadata": {},
   "source": [
    "# DATA CLEANING"
   ]
  },
  {
   "cell_type": "code",
   "execution_count": 5,
   "id": "3c61a826",
   "metadata": {},
   "outputs": [
    {
     "data": {
      "text/plain": [
       "Index(['Unnamed: 0', 'Product Name', 'Reviews', 'Original Price',\n",
       "       'Offer Price', 'Discount', 'Free Gifts'],\n",
       "      dtype='object')"
      ]
     },
     "execution_count": 5,
     "metadata": {},
     "output_type": "execute_result"
    }
   ],
   "source": [
    "df.columns"
   ]
  },
  {
   "cell_type": "code",
   "execution_count": 6,
   "id": "481be7e9",
   "metadata": {},
   "outputs": [
    {
     "data": {
      "text/html": [
       "<div>\n",
       "<style scoped>\n",
       "    .dataframe tbody tr th:only-of-type {\n",
       "        vertical-align: middle;\n",
       "    }\n",
       "\n",
       "    .dataframe tbody tr th {\n",
       "        vertical-align: top;\n",
       "    }\n",
       "\n",
       "    .dataframe thead th {\n",
       "        text-align: right;\n",
       "    }\n",
       "</style>\n",
       "<table border=\"1\" class=\"dataframe\">\n",
       "  <thead>\n",
       "    <tr style=\"text-align: right;\">\n",
       "      <th></th>\n",
       "      <th>Product Name</th>\n",
       "      <th>Reviews</th>\n",
       "      <th>Original Price</th>\n",
       "      <th>Offer Price</th>\n",
       "      <th>Discount</th>\n",
       "      <th>Free Gifts</th>\n",
       "    </tr>\n",
       "  </thead>\n",
       "  <tbody>\n",
       "    <tr>\n",
       "      <th>0</th>\n",
       "      <td>L'Oreal Paris Glycolic Bright Serum With Glyco...</td>\n",
       "      <td>( 5154 )</td>\n",
       "      <td>MRP:₹749</td>\n",
       "      <td>₹486</td>\n",
       "      <td>35% Off</td>\n",
       "      <td>NaN</td>\n",
       "    </tr>\n",
       "    <tr>\n",
       "      <th>1</th>\n",
       "      <td>Nykaa Skin Secrets Gold Sheet Mask + Nykaa Ski...</td>\n",
       "      <td>( 25 )</td>\n",
       "      <td>MRP:₹1099</td>\n",
       "      <td>₹879</td>\n",
       "      <td>20% Off</td>\n",
       "      <td>Enjoy Free Gift</td>\n",
       "    </tr>\n",
       "    <tr>\n",
       "      <th>2</th>\n",
       "      <td>Dot &amp; Key Vitamin C + E Face Sunscreen With SP...</td>\n",
       "      <td>( 3678 )</td>\n",
       "      <td>MRP:₹495</td>\n",
       "      <td>₹421</td>\n",
       "      <td>15% Off</td>\n",
       "      <td>Extra 5% Off</td>\n",
       "    </tr>\n",
       "    <tr>\n",
       "      <th>3</th>\n",
       "      <td>Olay Total Effects 7 In One Anti-Ageing Day Cr...</td>\n",
       "      <td>( 6065 )</td>\n",
       "      <td>MRP:₹798</td>\n",
       "      <td>₹638</td>\n",
       "      <td>20% Off</td>\n",
       "      <td>NaN</td>\n",
       "    </tr>\n",
       "    <tr>\n",
       "      <th>4</th>\n",
       "      <td>Nykaa SKINRX 10% Vitamin C with 5% Niacinamide...</td>\n",
       "      <td>( 1427 )</td>\n",
       "      <td>MRP:₹699</td>\n",
       "      <td>₹594</td>\n",
       "      <td>15% Off</td>\n",
       "      <td>NaN</td>\n",
       "    </tr>\n",
       "  </tbody>\n",
       "</table>\n",
       "</div>"
      ],
      "text/plain": [
       "                                        Product Name   Reviews Original Price  \\\n",
       "0  L'Oreal Paris Glycolic Bright Serum With Glyco...  ( 5154 )       MRP:₹749   \n",
       "1  Nykaa Skin Secrets Gold Sheet Mask + Nykaa Ski...    ( 25 )      MRP:₹1099   \n",
       "2  Dot & Key Vitamin C + E Face Sunscreen With SP...  ( 3678 )       MRP:₹495   \n",
       "3  Olay Total Effects 7 In One Anti-Ageing Day Cr...  ( 6065 )       MRP:₹798   \n",
       "4  Nykaa SKINRX 10% Vitamin C with 5% Niacinamide...  ( 1427 )       MRP:₹699   \n",
       "\n",
       "  Offer Price Discount       Free Gifts  \n",
       "0        ₹486  35% Off              NaN  \n",
       "1        ₹879  20% Off  Enjoy Free Gift  \n",
       "2        ₹421  15% Off     Extra 5% Off  \n",
       "3        ₹638  20% Off              NaN  \n",
       "4        ₹594  15% Off              NaN  "
      ]
     },
     "execution_count": 6,
     "metadata": {},
     "output_type": "execute_result"
    }
   ],
   "source": [
    "#Dropping unwanted columns\n",
    "df = df.drop('Unnamed: 0', axis=1)\n",
    "df.head()"
   ]
  },
  {
   "cell_type": "code",
   "execution_count": 7,
   "id": "1e5e44dc",
   "metadata": {},
   "outputs": [],
   "source": [
    "#Cleaning Columns\n",
    "df['Reviews'] = df.Reviews.str.replace('\\(|\\)', '', regex = True)\n",
    "df['Original Price'] = df['Original Price'].str.replace('MRP:₹', '', regex = True)\n",
    "df['Original Price'] = df['Original Price'].str.replace('MRP:', '', regex = True)\n",
    "df['Offer Price'] = df['Offer Price'].str.replace('₹', '', regex=True)"
   ]
  },
  {
   "cell_type": "code",
   "execution_count": 8,
   "id": "0e8c125e",
   "metadata": {},
   "outputs": [
    {
     "data": {
      "text/html": [
       "<div>\n",
       "<style scoped>\n",
       "    .dataframe tbody tr th:only-of-type {\n",
       "        vertical-align: middle;\n",
       "    }\n",
       "\n",
       "    .dataframe tbody tr th {\n",
       "        vertical-align: top;\n",
       "    }\n",
       "\n",
       "    .dataframe thead th {\n",
       "        text-align: right;\n",
       "    }\n",
       "</style>\n",
       "<table border=\"1\" class=\"dataframe\">\n",
       "  <thead>\n",
       "    <tr style=\"text-align: right;\">\n",
       "      <th></th>\n",
       "      <th>Product Name</th>\n",
       "      <th>Reviews</th>\n",
       "      <th>Original Price</th>\n",
       "      <th>Offer Price</th>\n",
       "      <th>Discount</th>\n",
       "      <th>Free Gifts</th>\n",
       "    </tr>\n",
       "  </thead>\n",
       "  <tbody>\n",
       "    <tr>\n",
       "      <th>0</th>\n",
       "      <td>L'Oreal Paris Glycolic Bright Serum With Glyco...</td>\n",
       "      <td>5154</td>\n",
       "      <td>749</td>\n",
       "      <td>486</td>\n",
       "      <td>35% Off</td>\n",
       "      <td>NaN</td>\n",
       "    </tr>\n",
       "    <tr>\n",
       "      <th>1</th>\n",
       "      <td>Nykaa Skin Secrets Gold Sheet Mask + Nykaa Ski...</td>\n",
       "      <td>25</td>\n",
       "      <td>1099</td>\n",
       "      <td>879</td>\n",
       "      <td>20% Off</td>\n",
       "      <td>Enjoy Free Gift</td>\n",
       "    </tr>\n",
       "    <tr>\n",
       "      <th>2</th>\n",
       "      <td>Dot &amp; Key Vitamin C + E Face Sunscreen With SP...</td>\n",
       "      <td>3678</td>\n",
       "      <td>495</td>\n",
       "      <td>421</td>\n",
       "      <td>15% Off</td>\n",
       "      <td>Extra 5% Off</td>\n",
       "    </tr>\n",
       "    <tr>\n",
       "      <th>3</th>\n",
       "      <td>Olay Total Effects 7 In One Anti-Ageing Day Cr...</td>\n",
       "      <td>6065</td>\n",
       "      <td>798</td>\n",
       "      <td>638</td>\n",
       "      <td>20% Off</td>\n",
       "      <td>NaN</td>\n",
       "    </tr>\n",
       "    <tr>\n",
       "      <th>4</th>\n",
       "      <td>Nykaa SKINRX 10% Vitamin C with 5% Niacinamide...</td>\n",
       "      <td>1427</td>\n",
       "      <td>699</td>\n",
       "      <td>594</td>\n",
       "      <td>15% Off</td>\n",
       "      <td>NaN</td>\n",
       "    </tr>\n",
       "  </tbody>\n",
       "</table>\n",
       "</div>"
      ],
      "text/plain": [
       "                                        Product Name Reviews Original Price  \\\n",
       "0  L'Oreal Paris Glycolic Bright Serum With Glyco...   5154             749   \n",
       "1  Nykaa Skin Secrets Gold Sheet Mask + Nykaa Ski...     25            1099   \n",
       "2  Dot & Key Vitamin C + E Face Sunscreen With SP...   3678             495   \n",
       "3  Olay Total Effects 7 In One Anti-Ageing Day Cr...   6065             798   \n",
       "4  Nykaa SKINRX 10% Vitamin C with 5% Niacinamide...   1427             699   \n",
       "\n",
       "  Offer Price Discount       Free Gifts  \n",
       "0         486  35% Off              NaN  \n",
       "1         879  20% Off  Enjoy Free Gift  \n",
       "2         421  15% Off     Extra 5% Off  \n",
       "3         638  20% Off              NaN  \n",
       "4         594  15% Off              NaN  "
      ]
     },
     "execution_count": 8,
     "metadata": {},
     "output_type": "execute_result"
    }
   ],
   "source": [
    "df.head()"
   ]
  },
  {
   "cell_type": "code",
   "execution_count": 9,
   "id": "dbdef525",
   "metadata": {},
   "outputs": [
    {
     "data": {
      "text/plain": [
       "Product Name         0\n",
       "Reviews            965\n",
       "Original Price       0\n",
       "Offer Price          0\n",
       "Discount          2975\n",
       "Free Gifts        8002\n",
       "dtype: int64"
      ]
     },
     "execution_count": 9,
     "metadata": {},
     "output_type": "execute_result"
    }
   ],
   "source": [
    "#checking null values\n",
    "df.isnull().sum()"
   ]
  },
  {
   "cell_type": "code",
   "execution_count": 10,
   "id": "a58e8d27",
   "metadata": {},
   "outputs": [
    {
     "name": "stdout",
     "output_type": "stream",
     "text": [
      "<class 'pandas.core.frame.DataFrame'>\n",
      "RangeIndex: 12000 entries, 0 to 11999\n",
      "Data columns (total 6 columns):\n",
      " #   Column          Non-Null Count  Dtype \n",
      "---  ------          --------------  ----- \n",
      " 0   Product Name    12000 non-null  object\n",
      " 1   Reviews         11035 non-null  object\n",
      " 2   Original Price  12000 non-null  object\n",
      " 3   Offer Price     12000 non-null  object\n",
      " 4   Discount        12000 non-null  object\n",
      " 5   Free Gifts      12000 non-null  object\n",
      "dtypes: object(6)\n",
      "memory usage: 562.6+ KB\n"
     ]
    }
   ],
   "source": [
    "#Let's fill last two columns\n",
    "df.Discount = df.Discount.fillna('0% Off')\n",
    "df['Free Gifts'] = df['Free Gifts'].fillna('No Gift')\n",
    "df.info()"
   ]
  },
  {
   "cell_type": "code",
   "execution_count": 11,
   "id": "98be0dbe",
   "metadata": {},
   "outputs": [
    {
     "name": "stdout",
     "output_type": "stream",
     "text": [
      "<class 'pandas.core.frame.DataFrame'>\n",
      "RangeIndex: 12000 entries, 0 to 11999\n",
      "Data columns (total 6 columns):\n",
      " #   Column          Non-Null Count  Dtype  \n",
      "---  ------          --------------  -----  \n",
      " 0   Product Name    12000 non-null  object \n",
      " 1   Reviews         11035 non-null  float64\n",
      " 2   Original Price  9046 non-null   float64\n",
      " 3   Offer Price     12000 non-null  int64  \n",
      " 4   Discount        12000 non-null  object \n",
      " 5   Free Gifts      12000 non-null  object \n",
      "dtypes: float64(2), int64(1), object(3)\n",
      "memory usage: 562.6+ KB\n"
     ]
    }
   ],
   "source": [
    "#changing dtypes of several columns from object to numeric\n",
    "df['Reviews'] = pd.to_numeric(df['Reviews'])\n",
    "df['Original Price'] = pd.to_numeric(df['Original Price'])\n",
    "df['Offer Price'] = pd.to_numeric(df['Offer Price'])\n",
    "df.info()"
   ]
  },
  {
   "cell_type": "code",
   "execution_count": 12,
   "id": "5e2bb182",
   "metadata": {},
   "outputs": [
    {
     "name": "stdout",
     "output_type": "stream",
     "text": [
      "<class 'pandas.core.frame.DataFrame'>\n",
      "RangeIndex: 12000 entries, 0 to 11999\n",
      "Data columns (total 6 columns):\n",
      " #   Column          Non-Null Count  Dtype  \n",
      "---  ------          --------------  -----  \n",
      " 0   Product Name    12000 non-null  object \n",
      " 1   Reviews         12000 non-null  float64\n",
      " 2   Original Price  12000 non-null  float64\n",
      " 3   Offer Price     12000 non-null  int64  \n",
      " 4   Discount        12000 non-null  object \n",
      " 5   Free Gifts      12000 non-null  object \n",
      "dtypes: float64(2), int64(1), object(3)\n",
      "memory usage: 562.6+ KB\n"
     ]
    }
   ],
   "source": [
    "#Now we can fill the missing values in Original Price with Offer Price\n",
    "df['Original Price'] = df['Original Price'].fillna(df['Offer Price'])\n",
    "\n",
    "\n",
    "#Filling missing values in Reviews column with 0\n",
    "df.Reviews = df.Reviews.fillna(0)\n",
    "df.info()"
   ]
  },
  {
   "cell_type": "code",
   "execution_count": 13,
   "id": "64e8b16b",
   "metadata": {},
   "outputs": [
    {
     "data": {
      "text/plain": [
       "Product Name      0\n",
       "Reviews           0\n",
       "Original Price    0\n",
       "Offer Price       0\n",
       "Discount          0\n",
       "Free Gifts        0\n",
       "dtype: int64"
      ]
     },
     "execution_count": 13,
     "metadata": {},
     "output_type": "execute_result"
    }
   ],
   "source": [
    "#Checking null values after filling the data\n",
    "df.isnull().sum()"
   ]
  },
  {
   "cell_type": "code",
   "execution_count": 14,
   "id": "6849ec21",
   "metadata": {},
   "outputs": [
    {
     "data": {
      "text/plain": [
       "2067"
      ]
     },
     "execution_count": 14,
     "metadata": {},
     "output_type": "execute_result"
    }
   ],
   "source": [
    "#Checking duplicate values\n",
    "df.duplicated().sum()"
   ]
  },
  {
   "cell_type": "code",
   "execution_count": 15,
   "id": "0038caa2",
   "metadata": {},
   "outputs": [
    {
     "data": {
      "text/html": [
       "<div>\n",
       "<style scoped>\n",
       "    .dataframe tbody tr th:only-of-type {\n",
       "        vertical-align: middle;\n",
       "    }\n",
       "\n",
       "    .dataframe tbody tr th {\n",
       "        vertical-align: top;\n",
       "    }\n",
       "\n",
       "    .dataframe thead th {\n",
       "        text-align: right;\n",
       "    }\n",
       "</style>\n",
       "<table border=\"1\" class=\"dataframe\">\n",
       "  <thead>\n",
       "    <tr style=\"text-align: right;\">\n",
       "      <th></th>\n",
       "      <th>Product Name</th>\n",
       "      <th>Reviews</th>\n",
       "      <th>Original Price</th>\n",
       "      <th>Offer Price</th>\n",
       "      <th>Discount</th>\n",
       "      <th>Free Gifts</th>\n",
       "    </tr>\n",
       "  </thead>\n",
       "  <tbody>\n",
       "    <tr>\n",
       "      <th>11183</th>\n",
       "      <td>mellow Marigold Facewash</td>\n",
       "      <td>6.0</td>\n",
       "      <td>325.0</td>\n",
       "      <td>325</td>\n",
       "      <td>0% Off</td>\n",
       "      <td>No Gift</td>\n",
       "    </tr>\n",
       "    <tr>\n",
       "      <th>11496</th>\n",
       "      <td>Just Herbs Retinol Combos</td>\n",
       "      <td>313.0</td>\n",
       "      <td>1885.0</td>\n",
       "      <td>1413</td>\n",
       "      <td>25% Off</td>\n",
       "      <td>No Gift</td>\n",
       "    </tr>\n",
       "    <tr>\n",
       "      <th>11212</th>\n",
       "      <td>Elizabeth Arden Eight Hour Cream Intensive Moi...</td>\n",
       "      <td>8.0</td>\n",
       "      <td>1750.0</td>\n",
       "      <td>1750</td>\n",
       "      <td>0% Off</td>\n",
       "      <td>No Gift</td>\n",
       "    </tr>\n",
       "    <tr>\n",
       "      <th>11985</th>\n",
       "      <td>Skivia Clove Pure Essential Oil</td>\n",
       "      <td>1.0</td>\n",
       "      <td>350.0</td>\n",
       "      <td>350</td>\n",
       "      <td>0% Off</td>\n",
       "      <td>No Gift</td>\n",
       "    </tr>\n",
       "    <tr>\n",
       "      <th>11005</th>\n",
       "      <td>Skivia Clove Pure Essential Oil</td>\n",
       "      <td>1.0</td>\n",
       "      <td>350.0</td>\n",
       "      <td>350</td>\n",
       "      <td>0% Off</td>\n",
       "      <td>No Gift</td>\n",
       "    </tr>\n",
       "    <tr>\n",
       "      <th>10358</th>\n",
       "      <td>Colorbar Miracle Gummies - Love Is In The Hair</td>\n",
       "      <td>0.0</td>\n",
       "      <td>699.0</td>\n",
       "      <td>594</td>\n",
       "      <td>15% Off</td>\n",
       "      <td>Enjoy Free Gift</td>\n",
       "    </tr>\n",
       "    <tr>\n",
       "      <th>10434</th>\n",
       "      <td>Victoria's Secret Fresh &amp; Clean Frosted Winter...</td>\n",
       "      <td>0.0</td>\n",
       "      <td>2299.0</td>\n",
       "      <td>1724</td>\n",
       "      <td>25% Off</td>\n",
       "      <td>Offer Available</td>\n",
       "    </tr>\n",
       "    <tr>\n",
       "      <th>10482</th>\n",
       "      <td>Dermatouch Mild Cleansing Lotion For Sensitive...</td>\n",
       "      <td>0.0</td>\n",
       "      <td>499.0</td>\n",
       "      <td>499</td>\n",
       "      <td>0% Off</td>\n",
       "      <td>No Gift</td>\n",
       "    </tr>\n",
       "    <tr>\n",
       "      <th>10988</th>\n",
       "      <td>Vaadi Herbals Lip Balm Combo For Ultra Soft &amp; ...</td>\n",
       "      <td>9205.0</td>\n",
       "      <td>166.0</td>\n",
       "      <td>141</td>\n",
       "      <td>15% Off</td>\n",
       "      <td>Extra 10% Off</td>\n",
       "    </tr>\n",
       "    <tr>\n",
       "      <th>10326</th>\n",
       "      <td>Find Your Happy Place - After The Rain Soufflé...</td>\n",
       "      <td>11.0</td>\n",
       "      <td>699.0</td>\n",
       "      <td>594</td>\n",
       "      <td>15% Off</td>\n",
       "      <td>No Gift</td>\n",
       "    </tr>\n",
       "  </tbody>\n",
       "</table>\n",
       "</div>"
      ],
      "text/plain": [
       "                                            Product Name  Reviews  \\\n",
       "11183                           mellow Marigold Facewash      6.0   \n",
       "11496                          Just Herbs Retinol Combos    313.0   \n",
       "11212  Elizabeth Arden Eight Hour Cream Intensive Moi...      8.0   \n",
       "11985                    Skivia Clove Pure Essential Oil      1.0   \n",
       "11005                    Skivia Clove Pure Essential Oil      1.0   \n",
       "10358     Colorbar Miracle Gummies - Love Is In The Hair      0.0   \n",
       "10434  Victoria's Secret Fresh & Clean Frosted Winter...      0.0   \n",
       "10482  Dermatouch Mild Cleansing Lotion For Sensitive...      0.0   \n",
       "10988  Vaadi Herbals Lip Balm Combo For Ultra Soft & ...   9205.0   \n",
       "10326  Find Your Happy Place - After The Rain Soufflé...     11.0   \n",
       "\n",
       "       Original Price  Offer Price Discount       Free Gifts  \n",
       "11183           325.0          325   0% Off          No Gift  \n",
       "11496          1885.0         1413  25% Off          No Gift  \n",
       "11212          1750.0         1750   0% Off          No Gift  \n",
       "11985           350.0          350   0% Off          No Gift  \n",
       "11005           350.0          350   0% Off          No Gift  \n",
       "10358           699.0          594  15% Off  Enjoy Free Gift  \n",
       "10434          2299.0         1724  25% Off  Offer Available  \n",
       "10482           499.0          499   0% Off          No Gift  \n",
       "10988           166.0          141  15% Off    Extra 10% Off  \n",
       "10326           699.0          594  15% Off          No Gift  "
      ]
     },
     "execution_count": 15,
     "metadata": {},
     "output_type": "execute_result"
    }
   ],
   "source": [
    "#Checking duplicates in a tabular format for a better understanding\n",
    "duplicate_rows = df.duplicated()\n",
    "duplicate_data = df[duplicate_rows]\n",
    "duplicate_data.sample(10)"
   ]
  },
  {
   "cell_type": "code",
   "execution_count": 16,
   "id": "b4f304f0",
   "metadata": {},
   "outputs": [
    {
     "data": {
      "text/plain": [
       "0"
      ]
     },
     "execution_count": 16,
     "metadata": {},
     "output_type": "execute_result"
    }
   ],
   "source": [
    "df = df.drop_duplicates()\n",
    "df.duplicated().sum()"
   ]
  },
  {
   "cell_type": "code",
   "execution_count": 17,
   "id": "f26063f6",
   "metadata": {},
   "outputs": [
    {
     "data": {
      "text/plain": [
       "(9933, 6)"
      ]
     },
     "execution_count": 17,
     "metadata": {},
     "output_type": "execute_result"
    }
   ],
   "source": [
    "#Now let's check shape of our data.\n",
    "df.shape"
   ]
  },
  {
   "cell_type": "code",
   "execution_count": 18,
   "id": "669e7b97",
   "metadata": {},
   "outputs": [
    {
     "name": "stdout",
     "output_type": "stream",
     "text": [
      "<class 'pandas.core.frame.DataFrame'>\n",
      "Int64Index: 9933 entries, 0 to 9979\n",
      "Data columns (total 6 columns):\n",
      " #   Column          Non-Null Count  Dtype  \n",
      "---  ------          --------------  -----  \n",
      " 0   Product Name    9933 non-null   object \n",
      " 1   Reviews         9933 non-null   float64\n",
      " 2   Original Price  9933 non-null   float64\n",
      " 3   Offer Price     9933 non-null   int64  \n",
      " 4   Discount        9933 non-null   object \n",
      " 5   Free Gifts      9933 non-null   object \n",
      "dtypes: float64(2), int64(1), object(3)\n",
      "memory usage: 543.2+ KB\n"
     ]
    }
   ],
   "source": [
    "df.info()"
   ]
  },
  {
   "cell_type": "code",
   "execution_count": 19,
   "id": "8f466a03",
   "metadata": {},
   "outputs": [
    {
     "data": {
      "text/plain": [
       "4618    Mother Sparsh Turmeric Healing Face Ubtan Powd...\n",
       "3650    Shahnaz Husain Shalife Premium Ultimate Skin N...\n",
       "1054    Dot & Key glow c sleep mask vitamin c overnigh...\n",
       "1667                  Milagro Beauty Natural Underarm Gel\n",
       "532                           TONYMOLY Egg Pore Nose Pack\n",
       "8036    Coco Soul Body Lotion + Shower Gel With Coconu...\n",
       "1463    Bioderma Sebium Night Peel Smoothing Concentra...\n",
       "6028      IBA Insta D-tan Facial Kit (6 Steps Single Use)\n",
       "6005    Jeva Fruit Total Nourishment & Ultra Moisturiz...\n",
       "5744    ZM Zayn & Myza Tea Tree & Salicylic Acid Night...\n",
       "Name: Product Name, dtype: object"
      ]
     },
     "execution_count": 19,
     "metadata": {},
     "output_type": "execute_result"
    }
   ],
   "source": [
    "#Let's extract the Brand name from the Product name column\n",
    "df['Product Name'].sample(10)"
   ]
  },
  {
   "cell_type": "markdown",
   "id": "23e5caf0",
   "metadata": {},
   "source": [
    "# Extracting Brand Name from Product Name column"
   ]
  },
  {
   "cell_type": "code",
   "execution_count": 20,
   "id": "a0450b2f",
   "metadata": {},
   "outputs": [
    {
     "name": "stdout",
     "output_type": "stream",
     "text": [
      "0                     L Oreal Paris\n",
      "1                Nykaa Skin Secrets\n",
      "2                   Dot Key Vitamin\n",
      "3                Olay Total Effects\n",
      "4                   Nykaa SKINRX 10\n",
      "                   ...             \n",
      "9975      Nykaa Wanderlust Sicilian\n",
      "9976             Just Herbs Retinol\n",
      "9977           Belora Paris Vitamin\n",
      "9978       Colorbar Miracle Gummies\n",
      "9979    Quench Bravocado Nourishing\n",
      "Name: Brand, Length: 9933, dtype: object\n"
     ]
    }
   ],
   "source": [
    "col_split = df['Product Name'].str.split('/', n=0, expand=True)\n",
    "col_split\n",
    "\n",
    "#Importing regular expression library\n",
    "import re\n",
    "\n",
    "df['Brand'] = df['Product Name'].apply(lambda x: ' '.join(re.findall(r'\\b\\w+\\b', x)[:3]) if re.findall(r'\\b\\w+\\b', x) else None)\n",
    "\n",
    "# Print the extracted brand names\n",
    "print(df['Brand'])"
   ]
  },
  {
   "cell_type": "code",
   "execution_count": 21,
   "id": "c58cbbae",
   "metadata": {},
   "outputs": [
    {
     "data": {
      "text/html": [
       "<div>\n",
       "<style scoped>\n",
       "    .dataframe tbody tr th:only-of-type {\n",
       "        vertical-align: middle;\n",
       "    }\n",
       "\n",
       "    .dataframe tbody tr th {\n",
       "        vertical-align: top;\n",
       "    }\n",
       "\n",
       "    .dataframe thead th {\n",
       "        text-align: right;\n",
       "    }\n",
       "</style>\n",
       "<table border=\"1\" class=\"dataframe\">\n",
       "  <thead>\n",
       "    <tr style=\"text-align: right;\">\n",
       "      <th></th>\n",
       "      <th>Product Name</th>\n",
       "      <th>Reviews</th>\n",
       "      <th>Original Price</th>\n",
       "      <th>Offer Price</th>\n",
       "      <th>Discount</th>\n",
       "      <th>Free Gifts</th>\n",
       "      <th>Brand</th>\n",
       "    </tr>\n",
       "  </thead>\n",
       "  <tbody>\n",
       "    <tr>\n",
       "      <th>0</th>\n",
       "      <td>L'Oreal Paris Glycolic Bright Serum With Glyco...</td>\n",
       "      <td>5154.0</td>\n",
       "      <td>749.0</td>\n",
       "      <td>486</td>\n",
       "      <td>35% Off</td>\n",
       "      <td>No Gift</td>\n",
       "      <td>L Oreal Paris</td>\n",
       "    </tr>\n",
       "    <tr>\n",
       "      <th>1</th>\n",
       "      <td>Nykaa Skin Secrets Gold Sheet Mask + Nykaa Ski...</td>\n",
       "      <td>25.0</td>\n",
       "      <td>1099.0</td>\n",
       "      <td>879</td>\n",
       "      <td>20% Off</td>\n",
       "      <td>Enjoy Free Gift</td>\n",
       "      <td>Nykaa Skin Secrets</td>\n",
       "    </tr>\n",
       "    <tr>\n",
       "      <th>2</th>\n",
       "      <td>Dot &amp; Key Vitamin C + E Face Sunscreen With SP...</td>\n",
       "      <td>3678.0</td>\n",
       "      <td>495.0</td>\n",
       "      <td>421</td>\n",
       "      <td>15% Off</td>\n",
       "      <td>Extra 5% Off</td>\n",
       "      <td>Dot Key Vitamin</td>\n",
       "    </tr>\n",
       "    <tr>\n",
       "      <th>3</th>\n",
       "      <td>Olay Total Effects 7 In One Anti-Ageing Day Cr...</td>\n",
       "      <td>6065.0</td>\n",
       "      <td>798.0</td>\n",
       "      <td>638</td>\n",
       "      <td>20% Off</td>\n",
       "      <td>No Gift</td>\n",
       "      <td>Olay Total Effects</td>\n",
       "    </tr>\n",
       "    <tr>\n",
       "      <th>4</th>\n",
       "      <td>Nykaa SKINRX 10% Vitamin C with 5% Niacinamide...</td>\n",
       "      <td>1427.0</td>\n",
       "      <td>699.0</td>\n",
       "      <td>594</td>\n",
       "      <td>15% Off</td>\n",
       "      <td>No Gift</td>\n",
       "      <td>Nykaa SKINRX 10</td>\n",
       "    </tr>\n",
       "  </tbody>\n",
       "</table>\n",
       "</div>"
      ],
      "text/plain": [
       "                                        Product Name  Reviews  Original Price  \\\n",
       "0  L'Oreal Paris Glycolic Bright Serum With Glyco...   5154.0           749.0   \n",
       "1  Nykaa Skin Secrets Gold Sheet Mask + Nykaa Ski...     25.0          1099.0   \n",
       "2  Dot & Key Vitamin C + E Face Sunscreen With SP...   3678.0           495.0   \n",
       "3  Olay Total Effects 7 In One Anti-Ageing Day Cr...   6065.0           798.0   \n",
       "4  Nykaa SKINRX 10% Vitamin C with 5% Niacinamide...   1427.0           699.0   \n",
       "\n",
       "   Offer Price Discount       Free Gifts               Brand  \n",
       "0          486  35% Off          No Gift       L Oreal Paris  \n",
       "1          879  20% Off  Enjoy Free Gift  Nykaa Skin Secrets  \n",
       "2          421  15% Off     Extra 5% Off     Dot Key Vitamin  \n",
       "3          638  20% Off          No Gift  Olay Total Effects  \n",
       "4          594  15% Off          No Gift     Nykaa SKINRX 10  "
      ]
     },
     "execution_count": 21,
     "metadata": {},
     "output_type": "execute_result"
    }
   ],
   "source": [
    "df.head()"
   ]
  },
  {
   "cell_type": "code",
   "execution_count": 22,
   "id": "ee3d51d1",
   "metadata": {},
   "outputs": [
    {
     "data": {
      "text/html": [
       "<div>\n",
       "<style scoped>\n",
       "    .dataframe tbody tr th:only-of-type {\n",
       "        vertical-align: middle;\n",
       "    }\n",
       "\n",
       "    .dataframe tbody tr th {\n",
       "        vertical-align: top;\n",
       "    }\n",
       "\n",
       "    .dataframe thead th {\n",
       "        text-align: right;\n",
       "    }\n",
       "</style>\n",
       "<table border=\"1\" class=\"dataframe\">\n",
       "  <thead>\n",
       "    <tr style=\"text-align: right;\">\n",
       "      <th></th>\n",
       "      <th>Product Name</th>\n",
       "      <th>Reviews</th>\n",
       "      <th>Original Price</th>\n",
       "      <th>Offer Price</th>\n",
       "      <th>Discount</th>\n",
       "      <th>Free Gifts</th>\n",
       "      <th>Brand</th>\n",
       "      <th>Discount (% OFF)</th>\n",
       "    </tr>\n",
       "  </thead>\n",
       "  <tbody>\n",
       "    <tr>\n",
       "      <th>0</th>\n",
       "      <td>L'Oreal Paris Glycolic Bright Serum With Glyco...</td>\n",
       "      <td>5154.0</td>\n",
       "      <td>749.0</td>\n",
       "      <td>486</td>\n",
       "      <td>35% Off</td>\n",
       "      <td>No Gift</td>\n",
       "      <td>L Oreal Paris</td>\n",
       "      <td>35</td>\n",
       "    </tr>\n",
       "    <tr>\n",
       "      <th>1</th>\n",
       "      <td>Nykaa Skin Secrets Gold Sheet Mask + Nykaa Ski...</td>\n",
       "      <td>25.0</td>\n",
       "      <td>1099.0</td>\n",
       "      <td>879</td>\n",
       "      <td>20% Off</td>\n",
       "      <td>Enjoy Free Gift</td>\n",
       "      <td>Nykaa Skin Secrets</td>\n",
       "      <td>20</td>\n",
       "    </tr>\n",
       "    <tr>\n",
       "      <th>2</th>\n",
       "      <td>Dot &amp; Key Vitamin C + E Face Sunscreen With SP...</td>\n",
       "      <td>3678.0</td>\n",
       "      <td>495.0</td>\n",
       "      <td>421</td>\n",
       "      <td>15% Off</td>\n",
       "      <td>Extra 5% Off</td>\n",
       "      <td>Dot Key Vitamin</td>\n",
       "      <td>15</td>\n",
       "    </tr>\n",
       "    <tr>\n",
       "      <th>3</th>\n",
       "      <td>Olay Total Effects 7 In One Anti-Ageing Day Cr...</td>\n",
       "      <td>6065.0</td>\n",
       "      <td>798.0</td>\n",
       "      <td>638</td>\n",
       "      <td>20% Off</td>\n",
       "      <td>No Gift</td>\n",
       "      <td>Olay Total Effects</td>\n",
       "      <td>20</td>\n",
       "    </tr>\n",
       "    <tr>\n",
       "      <th>4</th>\n",
       "      <td>Nykaa SKINRX 10% Vitamin C with 5% Niacinamide...</td>\n",
       "      <td>1427.0</td>\n",
       "      <td>699.0</td>\n",
       "      <td>594</td>\n",
       "      <td>15% Off</td>\n",
       "      <td>No Gift</td>\n",
       "      <td>Nykaa SKINRX 10</td>\n",
       "      <td>15</td>\n",
       "    </tr>\n",
       "  </tbody>\n",
       "</table>\n",
       "</div>"
      ],
      "text/plain": [
       "                                        Product Name  Reviews  Original Price  \\\n",
       "0  L'Oreal Paris Glycolic Bright Serum With Glyco...   5154.0           749.0   \n",
       "1  Nykaa Skin Secrets Gold Sheet Mask + Nykaa Ski...     25.0          1099.0   \n",
       "2  Dot & Key Vitamin C + E Face Sunscreen With SP...   3678.0           495.0   \n",
       "3  Olay Total Effects 7 In One Anti-Ageing Day Cr...   6065.0           798.0   \n",
       "4  Nykaa SKINRX 10% Vitamin C with 5% Niacinamide...   1427.0           699.0   \n",
       "\n",
       "   Offer Price Discount       Free Gifts               Brand  Discount (% OFF)  \n",
       "0          486  35% Off          No Gift       L Oreal Paris                35  \n",
       "1          879  20% Off  Enjoy Free Gift  Nykaa Skin Secrets                20  \n",
       "2          421  15% Off     Extra 5% Off     Dot Key Vitamin                15  \n",
       "3          638  20% Off          No Gift  Olay Total Effects                20  \n",
       "4          594  15% Off          No Gift     Nykaa SKINRX 10                15  "
      ]
     },
     "execution_count": 22,
     "metadata": {},
     "output_type": "execute_result"
    }
   ],
   "source": [
    "df['Discount (% OFF)'] = df['Discount'].str.replace('% Off', '', regex=True)\n",
    "df['Discount (% OFF)'] = pd.to_numeric(df['Discount (% OFF)'])\n",
    "df.head()"
   ]
  },
  {
   "cell_type": "markdown",
   "id": "ffcfce35",
   "metadata": {},
   "source": [
    "# CORRELATION ANALYSIS"
   ]
  },
  {
   "cell_type": "code",
   "execution_count": 23,
   "id": "2de8ffae",
   "metadata": {},
   "outputs": [
    {
     "data": {
      "text/plain": [
       "<AxesSubplot:>"
      ]
     },
     "execution_count": 23,
     "metadata": {},
     "output_type": "execute_result"
    },
    {
     "data": {
      "image/png": "[encoded data removed]",
      "text/plain": [
       "<Figure size 432x288 with 2 Axes>"
      ]
     },
     "metadata": {
      "needs_background": "light"
     },
     "output_type": "display_data"
    }
   ],
   "source": [
    "sns.heatmap(df.corr(), annot=True)"
   ]
  },
  {
   "cell_type": "markdown",
   "id": "da77d4f3",
   "metadata": {},
   "source": [
    "# DATA VISUALIZATION"
   ]
  },
  {
   "cell_type": "markdown",
   "id": "fde4be90",
   "metadata": {},
   "source": [
    "# Factors and Insights:"
   ]
  },
  {
   "cell_type": "code",
   "execution_count": 27,
   "id": "7e75f7ff",
   "metadata": {},
   "outputs": [
    {
     "data": {
      "image/png": "[encoded data removed]",
      "text/plain": [
       "<Figure size 720x432 with 1 Axes>"
      ]
     },
     "metadata": {
      "needs_background": "light"
     },
     "output_type": "display_data"
    }
   ],
   "source": [
    "# Plot the price difference analysis using seaborn\n",
    "plt.figure(figsize=(10, 6))\n",
    "sns.barplot(x='Price Difference', y='Product Name', data=sorted_df.head(10), palette='viridis')\n",
    "plt.title('Top 10 Products with the Highest Price Difference')\n",
    "plt.ylabel('Product Name')\n",
    "plt.xlabel('Price Difference')\n",
    "plt.xticks(rotation=45)\n",
    "plt.show()"
   ]
  },
  {
   "cell_type": "markdown",
   "id": "a4682264",
   "metadata": {},
   "source": [
    "# MOST RATED PRODUCT"
   ]
  },
  {
   "cell_type": "code",
   "execution_count": 28,
   "id": "1b3824d6",
   "metadata": {},
   "outputs": [
    {
     "data": {
      "image/png": "[encoded data removed]",
      "text/plain": [
       "<Figure size 720x432 with 1 Axes>"
      ]
     },
     "metadata": {
      "needs_background": "light"
     },
     "output_type": "display_data"
    }
   ],
   "source": [
    "# Sort the DataFrame by Reviews column to get the most rated product\n",
    "most_rated_product = df.sort_values('Reviews', ascending=False).iloc[0]\n",
    "\n",
    "# Create a bar plot to visualize the most rated product\n",
    "plt.figure(figsize=(10, 6))\n",
    "sns.barplot(x='Reviews', y='Product Name', data=pd.DataFrame([most_rated_product]), palette='viridis')\n",
    "plt.title('Most Rated Skincare Product')\n",
    "plt.xlabel('Reviews')\n",
    "plt.ylabel('Product Name')\n",
    "plt.show()"
   ]
  },
  {
   "cell_type": "markdown",
   "id": "f9d4c484",
   "metadata": {},
   "source": [
    "# Analyze the distribution of products across different brands ('Brand') to identify popular or prominent brands in the skincare category."
   ]
  },
  {
   "cell_type": "code",
   "execution_count": 29,
   "id": "64c85004",
   "metadata": {},
   "outputs": [
    {
     "data": {
      "image/png": "[encoded data removed]",
      "text/plain": [
       "<Figure size 720x432 with 1 Axes>"
      ]
     },
     "metadata": {
      "needs_background": "light"
     },
     "output_type": "display_data"
    }
   ],
   "source": [
    "# Perform brand analysis\n",
    "brand_counts = df['Brand'].value_counts()\n",
    "top_brands = brand_counts.head(10)  # Select the top 10 brands for visualization\n",
    "\n",
    "# Plot the brand analysis using seaborn\n",
    "plt.figure(figsize=(10, 6))\n",
    "sns.barplot(x=top_brands.index, y=top_brands.values)\n",
    "plt.title('Top 10 Brands in Skincare Products')\n",
    "plt.xlabel('Brand')\n",
    "plt.ylabel('Count')\n",
    "plt.xticks(rotation=45)\n",
    "plt.show()"
   ]
  },
  {
   "cell_type": "markdown",
   "id": "4cc2b4cd",
   "metadata": {},
   "source": [
    "# Identify products with the highest discount percentage to understand customer preferences for discounted items"
   ]
  },
  {
   "cell_type": "code",
   "execution_count": 30,
   "id": "581ef9ad",
   "metadata": {},
   "outputs": [
    {
     "data": {
      "image/png": "[encoded data removed]",
      "text/plain": [
       "<Figure size 720x432 with 1 Axes>"
      ]
     },
     "metadata": {
      "needs_background": "light"
     },
     "output_type": "display_data"
    }
   ],
   "source": [
    "# Sort the DataFrame by Discount Percentage to get the most discounted products\n",
    "most_discounted_products = df.sort_values('Discount (% OFF)', ascending=False).head(10)\n",
    "\n",
    "# Plot the most discounted products using seaborn\n",
    "plt.figure(figsize=(10, 6))\n",
    "sns.barplot(x='Discount (% OFF)', y='Product Name', data=most_discounted_products, palette='viridis')\n",
    "plt.title('Top 10 Most Discounted Skincare Products')\n",
    "plt.xlabel('Discount Percentage')\n",
    "plt.ylabel('Product Name')\n",
    "plt.show()"
   ]
  },
  {
   "cell_type": "markdown",
   "id": "5bfc6e31",
   "metadata": {},
   "source": [
    "# Determine the most common types of free gifts offered and assess their impact on customer purchasing decisions"
   ]
  },
  {
   "cell_type": "code",
   "execution_count": 31,
   "id": "2e01a631",
   "metadata": {},
   "outputs": [
    {
     "data": {
      "image/png": "[encoded data removed]",
      "text/plain": [
       "<Figure size 720x432 with 1 Axes>"
      ]
     },
     "metadata": {
      "needs_background": "light"
     },
     "output_type": "display_data"
    }
   ],
   "source": [
    "# Extract the unique free gifts and their frequencies\n",
    "free_gift_counts = df['Free Gifts'].value_counts().reset_index()\n",
    "free_gift_counts.columns = ['Free Gift', 'Count']\n",
    "\n",
    "# Sort the free gifts by count in descending order\n",
    "free_gift_counts.sort_values('Count', ascending=False, inplace=True)\n",
    "\n",
    "# Plot the free gifts analysis using seaborn\n",
    "plt.figure(figsize=(10, 6))\n",
    "sns.barplot(x='Count', y='Free Gift', data=free_gift_counts.head(10), palette='viridis')\n",
    "plt.title('Top 10 Most Common Free Gifts in Skincare Products')\n",
    "plt.xlabel('Count')\n",
    "plt.ylabel('Free Gift')\n",
    "plt.show()"
   ]
  },
  {
   "cell_type": "code",
   "execution_count": null,
   "id": "74d50407",
   "metadata": {},
   "outputs": [],
   "source": []
  }
 ],
 "metadata": {
  "kernelspec": {
   "display_name": "Python 3 (ipykernel)",
   "language": "python",
   "name": "python3"
  },
  "language_info": {
   "codemirror_mode": {
    "name": "ipython",
    "version": 3
   },
   "file_extension": ".py",
   "mimetype": "text/x-python",
   "name": "python",
   "nbconvert_exporter": "python",
   "pygments_lexer": "ipython3",
   "version": "3.10.2"
  }
 },
 "nbformat": 4,
 "nbformat_minor": 5
}
